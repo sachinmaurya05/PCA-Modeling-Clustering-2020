{
 "cells": [
  {
   "cell_type": "code",
   "execution_count": 1,
   "id": "4dbddadd",
   "metadata": {
    "_cell_guid": "b1076dfc-b9ad-4769-8c92-a6c4dae69d19",
    "_uuid": "8f2839f25d086af736a60e9eeb907d3b93b6e0e5",
    "execution": {
     "iopub.execute_input": "2022-06-10T04:08:14.325663Z",
     "iopub.status.busy": "2022-06-10T04:08:14.324916Z",
     "iopub.status.idle": "2022-06-10T04:08:14.345007Z",
     "shell.execute_reply": "2022-06-10T04:08:14.344314Z"
    },
    "papermill": {
     "duration": 0.032623,
     "end_time": "2022-06-10T04:08:14.347042",
     "exception": false,
     "start_time": "2022-06-10T04:08:14.314419",
     "status": "completed"
    },
    "tags": []
   },
   "outputs": [
    {
     "name": "stdout",
     "output_type": "stream",
     "text": [
      "/kaggle/input/heavyandconstruction/HeavyandConstructioncompanies.csv\n",
      "/kaggle/input/heavyandconstruction2021/HeavyandConstructioncompanies2021.csv\n"
     ]
    }
   ],
   "source": [
    "# This Python 3 environment comes with many helpful analytics libraries installed\n",
    "# It is defined by the kaggle/python Docker image: https://github.com/kaggle/docker-python\n",
    "# For example, here's several helpful packages to load\n",
    "\n",
    "import numpy as np # linear algebra\n",
    "import pandas as pd # data processing, CSV file I/O (e.g. pd.read_csv)\n",
    "\n",
    "# Input data files are available in the read-only \"../input/\" directory\n",
    "# For example, running this (by clicking run or pressing Shift+Enter) will list all files under the input directory\n",
    "\n",
    "import os\n",
    "for dirname, _, filenames in os.walk('/kaggle/input'):\n",
    "    for filename in filenames:\n",
    "        print(os.path.join(dirname, filename))\n",
    "\n",
    "# You can write up to 20GB to the current directory (/kaggle/working/) that gets preserved as output when you create a version using \"Save & Run All\" \n",
    "# You can also write temporary files to /kaggle/temp/, but they won't be saved outside of the current session"
   ]
  },
  {
   "cell_type": "code",
   "execution_count": 2,
   "id": "d166173b",
   "metadata": {
    "execution": {
     "iopub.execute_input": "2022-06-10T04:08:14.358286Z",
     "iopub.status.busy": "2022-06-10T04:08:14.357707Z",
     "iopub.status.idle": "2022-06-10T04:08:15.848662Z",
     "shell.execute_reply": "2022-06-10T04:08:15.847298Z"
    },
    "papermill": {
     "duration": 1.498958,
     "end_time": "2022-06-10T04:08:15.850873",
     "exception": false,
     "start_time": "2022-06-10T04:08:14.351915",
     "status": "completed"
    },
    "tags": []
   },
   "outputs": [],
   "source": [
    "import pandas as pd\n",
    "import numpy as np\n",
    "from matplotlib import pyplot as plt\n",
    "import seaborn as sns\n",
    "from sklearn.decomposition import PCA\n",
    "from matplotlib.colors import ListedColormap\n",
    "from sklearn.preprocessing import StandardScaler\n",
    "from sklearn.datasets import load_iris"
   ]
  },
  {
   "cell_type": "markdown",
   "id": "b3f5ce59",
   "metadata": {
    "papermill": {
     "duration": 0.004659,
     "end_time": "2022-06-10T04:08:15.860797",
     "exception": false,
     "start_time": "2022-06-10T04:08:15.856138",
     "status": "completed"
    },
    "tags": []
   },
   "source": [
    "**PCA and Clustering of Heavy and Construction Industry Financial Ratio 2020**"
   ]
  },
  {
   "cell_type": "code",
   "execution_count": 3,
   "id": "92c34928",
   "metadata": {
    "execution": {
     "iopub.execute_input": "2022-06-10T04:08:15.872610Z",
     "iopub.status.busy": "2022-06-10T04:08:15.871743Z",
     "iopub.status.idle": "2022-06-10T04:08:15.909315Z",
     "shell.execute_reply": "2022-06-10T04:08:15.908607Z"
    },
    "papermill": {
     "duration": 0.045554,
     "end_time": "2022-06-10T04:08:15.911356",
     "exception": false,
     "start_time": "2022-06-10T04:08:15.865802",
     "status": "completed"
    },
    "tags": []
   },
   "outputs": [
    {
     "name": "stdout",
     "output_type": "stream",
     "text": [
      "<class 'pandas.core.frame.DataFrame'>\n",
      "RangeIndex: 22 entries, 0 to 21\n",
      "Data columns (total 7 columns):\n",
      " #   Column       Non-Null Count  Dtype  \n",
      "---  ------       --------------  -----  \n",
      " 0   Code         22 non-null     object \n",
      " 1   P/E Ratio    22 non-null     float64\n",
      " 2   Price to BV  22 non-null     float64\n",
      " 3   D/E Ratio    22 non-null     float64\n",
      " 4   ROA          22 non-null     float64\n",
      " 5   ROE          22 non-null     float64\n",
      " 6   NPM          22 non-null     float64\n",
      "dtypes: float64(6), object(1)\n",
      "memory usage: 1.3+ KB\n"
     ]
    }
   ],
   "source": [
    "data = pd.read_csv('../input/heavyandconstruction/HeavyandConstructioncompanies.csv')\n",
    "data.info()"
   ]
  },
  {
   "cell_type": "code",
   "execution_count": 4,
   "id": "9c0279b9",
   "metadata": {
    "execution": {
     "iopub.execute_input": "2022-06-10T04:08:15.924708Z",
     "iopub.status.busy": "2022-06-10T04:08:15.922912Z",
     "iopub.status.idle": "2022-06-10T04:08:15.946717Z",
     "shell.execute_reply": "2022-06-10T04:08:15.945632Z"
    },
    "papermill": {
     "duration": 0.032293,
     "end_time": "2022-06-10T04:08:15.948929",
     "exception": false,
     "start_time": "2022-06-10T04:08:15.916636",
     "status": "completed"
    },
    "tags": []
   },
   "outputs": [
    {
     "data": {
      "text/html": [
       "<div>\n",
       "<style scoped>\n",
       "    .dataframe tbody tr th:only-of-type {\n",
       "        vertical-align: middle;\n",
       "    }\n",
       "\n",
       "    .dataframe tbody tr th {\n",
       "        vertical-align: top;\n",
       "    }\n",
       "\n",
       "    .dataframe thead th {\n",
       "        text-align: right;\n",
       "    }\n",
       "</style>\n",
       "<table border=\"1\" class=\"dataframe\">\n",
       "  <thead>\n",
       "    <tr style=\"text-align: right;\">\n",
       "      <th></th>\n",
       "      <th>Code</th>\n",
       "      <th>P/E Ratio</th>\n",
       "      <th>Price to BV</th>\n",
       "      <th>D/E Ratio</th>\n",
       "      <th>ROA</th>\n",
       "      <th>ROE</th>\n",
       "      <th>NPM</th>\n",
       "    </tr>\n",
       "  </thead>\n",
       "  <tbody>\n",
       "    <tr>\n",
       "      <th>0</th>\n",
       "      <td>ACST</td>\n",
       "      <td>-2.23</td>\n",
       "      <td>2.17</td>\n",
       "      <td>2.69</td>\n",
       "      <td>-0.26</td>\n",
       "      <td>-0.97</td>\n",
       "      <td>-1.05</td>\n",
       "    </tr>\n",
       "    <tr>\n",
       "      <th>1</th>\n",
       "      <td>ADHI</td>\n",
       "      <td>236.96</td>\n",
       "      <td>0.87</td>\n",
       "      <td>5.72</td>\n",
       "      <td>0.26</td>\n",
       "      <td>1.00</td>\n",
       "      <td>0.88</td>\n",
       "    </tr>\n",
       "    <tr>\n",
       "      <th>2</th>\n",
       "      <td>BUKK</td>\n",
       "      <td>5.29</td>\n",
       "      <td>0.78</td>\n",
       "      <td>0.75</td>\n",
       "      <td>0.08</td>\n",
       "      <td>0.15</td>\n",
       "      <td>0.14</td>\n",
       "    </tr>\n",
       "    <tr>\n",
       "      <th>3</th>\n",
       "      <td>DGIK</td>\n",
       "      <td>-7.63</td>\n",
       "      <td>0.43</td>\n",
       "      <td>0.73</td>\n",
       "      <td>-0.03</td>\n",
       "      <td>-0.06</td>\n",
       "      <td>-0.11</td>\n",
       "    </tr>\n",
       "    <tr>\n",
       "      <th>4</th>\n",
       "      <td>IDPR</td>\n",
       "      <td>-2.16</td>\n",
       "      <td>0.59</td>\n",
       "      <td>0.69</td>\n",
       "      <td>-0.16</td>\n",
       "      <td>-0.27</td>\n",
       "      <td>-0.55</td>\n",
       "    </tr>\n",
       "  </tbody>\n",
       "</table>\n",
       "</div>"
      ],
      "text/plain": [
       "   Code  P/E Ratio  Price to BV  D/E Ratio   ROA   ROE   NPM\n",
       "0  ACST      -2.23         2.17       2.69 -0.26 -0.97 -1.05\n",
       "1  ADHI     236.96         0.87       5.72  0.26  1.00  0.88\n",
       "2  BUKK       5.29         0.78       0.75  0.08  0.15  0.14\n",
       "3  DGIK      -7.63         0.43       0.73 -0.03 -0.06 -0.11\n",
       "4  IDPR      -2.16         0.59       0.69 -0.16 -0.27 -0.55"
      ]
     },
     "execution_count": 4,
     "metadata": {},
     "output_type": "execute_result"
    }
   ],
   "source": [
    "data.head()"
   ]
  },
  {
   "cell_type": "code",
   "execution_count": 5,
   "id": "dfccdc9f",
   "metadata": {
    "execution": {
     "iopub.execute_input": "2022-06-10T04:08:15.961676Z",
     "iopub.status.busy": "2022-06-10T04:08:15.961036Z",
     "iopub.status.idle": "2022-06-10T04:08:15.968080Z",
     "shell.execute_reply": "2022-06-10T04:08:15.966962Z"
    },
    "papermill": {
     "duration": 0.015505,
     "end_time": "2022-06-10T04:08:15.970075",
     "exception": false,
     "start_time": "2022-06-10T04:08:15.954570",
     "status": "completed"
    },
    "tags": []
   },
   "outputs": [],
   "source": [
    "X = data.iloc[:, 1:6].values\n",
    "y = data.iloc[:, 0].values"
   ]
  },
  {
   "cell_type": "code",
   "execution_count": 6,
   "id": "34cda382",
   "metadata": {
    "execution": {
     "iopub.execute_input": "2022-06-10T04:08:15.982670Z",
     "iopub.status.busy": "2022-06-10T04:08:15.982031Z",
     "iopub.status.idle": "2022-06-10T04:08:15.987357Z",
     "shell.execute_reply": "2022-06-10T04:08:15.986348Z"
    },
    "papermill": {
     "duration": 0.013805,
     "end_time": "2022-06-10T04:08:15.989605",
     "exception": false,
     "start_time": "2022-06-10T04:08:15.975800",
     "status": "completed"
    },
    "tags": []
   },
   "outputs": [],
   "source": [
    "scaler = StandardScaler()\n",
    "\n",
    "X = scaler.fit_transform(X)"
   ]
  },
  {
   "cell_type": "code",
   "execution_count": 7,
   "id": "d1598fda",
   "metadata": {
    "execution": {
     "iopub.execute_input": "2022-06-10T04:08:16.001821Z",
     "iopub.status.busy": "2022-06-10T04:08:16.001143Z",
     "iopub.status.idle": "2022-06-10T04:08:16.009421Z",
     "shell.execute_reply": "2022-06-10T04:08:16.008672Z"
    },
    "papermill": {
     "duration": 0.016758,
     "end_time": "2022-06-10T04:08:16.011792",
     "exception": false,
     "start_time": "2022-06-10T04:08:15.995034",
     "status": "completed"
    },
    "tags": []
   },
   "outputs": [
    {
     "data": {
      "text/plain": [
       "array([[-4.62636246e-01, -1.71435217e-02,  7.77682963e-01,\n",
       "        -2.79518884e+00, -3.12473178e+00],\n",
       "       [ 1.92912215e+00, -3.21680615e-01,  3.05337859e+00,\n",
       "         2.71808018e+00,  3.18294756e+00],\n",
       "       [-3.87440698e-01, -3.42763952e-01, -6.79363080e-01,\n",
       "         8.09640905e-01,  4.61360025e-01],\n",
       "       [-5.16633049e-01, -4.24754708e-01, -6.94384173e-01,\n",
       "        -3.56627541e-01, -2.11032188e-01],\n",
       "       [-4.61936287e-01, -3.87273219e-01, -7.24426359e-01,\n",
       "        -1.73494480e+00, -8.83424402e-01],\n",
       "       [-1.25718920e+00, -4.99398240e-02, -6.71852533e-01,\n",
       "        -1.44578733e-01, -8.29574809e-02],\n",
       "       [-1.20199247e+00, -3.77902847e-01, -9.87295491e-01,\n",
       "        -1.44578733e-01, -5.09388041e-02],\n",
       "       [-5.30604949e-02, -1.48328731e-01,  5.44856018e-01,\n",
       "         6.74700754e-02,  1.09154580e-01],\n",
       "       [-3.43743285e-01, -3.63847289e-01, -5.29152148e-01,\n",
       "         3.85543288e-01,  2.05210611e-01],\n",
       "       [-2.76247281e-01, -2.09236149e-01, -1.05489041e+00,\n",
       "         7.03616501e-01,  2.37229287e-01],\n",
       "       [ 4.91507264e-01, -3.54476917e-01, -5.59877111e-02,\n",
       "         6.74700754e-02,  1.30985496e-02],\n",
       "       [ 9.19281937e-01,  4.42207026e+00,  3.49581806e-01,\n",
       "         4.91567692e-01,  4.93378702e-01],\n",
       "       [ 2.44279174e+00, -3.59162103e-01,  8.52788429e-01,\n",
       "         6.74700754e-02,  1.30985496e-02],\n",
       "       [-1.77653118e-01,  1.35125025e-01, -1.09995369e+00,\n",
       "         9.15665309e-01,  3.33285318e-01],\n",
       "       [-1.16879444e+00,  8.12134408e-01, -1.15252752e+00,\n",
       "        -7.80725158e-01, -2.75069542e-01],\n",
       "       [-5.20632812e-01, -4.08356556e-01, -6.11768160e-01,\n",
       "        -3.56627541e-01, -2.11032188e-01],\n",
       "       [ 8.61285371e-01, -1.97523184e-01,  4.17176725e-01,\n",
       "         6.74700754e-02,  1.30985496e-02],\n",
       "       [-6.23126744e-01, -1.74097254e-01, -1.83667003e-01,\n",
       "        -3.56627541e-01, -2.75069542e-01],\n",
       "       [-3.39443539e-01, -2.86541719e-01,  4.09666179e-03,\n",
       "         3.85543288e-01,  3.01266641e-01],\n",
       "       [-3.30644060e-01, -3.19338022e-01, -7.85193509e-02,\n",
       "         2.79518884e-01,  2.37229287e-01],\n",
       "       [ 1.97211960e+00, -2.91226905e-01,  8.60298975e-01,\n",
       "         6.74700754e-02,  1.30985496e-02],\n",
       "       [-4.94934333e-01, -3.35736173e-01,  1.66392746e+00,\n",
       "        -3.56627541e-01, -4.99200280e-01]])"
      ]
     },
     "execution_count": 7,
     "metadata": {},
     "output_type": "execute_result"
    }
   ],
   "source": [
    "X"
   ]
  },
  {
   "cell_type": "code",
   "execution_count": 8,
   "id": "eecc9e8c",
   "metadata": {
    "execution": {
     "iopub.execute_input": "2022-06-10T04:08:16.025246Z",
     "iopub.status.busy": "2022-06-10T04:08:16.024577Z",
     "iopub.status.idle": "2022-06-10T04:08:16.044990Z",
     "shell.execute_reply": "2022-06-10T04:08:16.043926Z"
    },
    "papermill": {
     "duration": 0.029631,
     "end_time": "2022-06-10T04:08:16.047202",
     "exception": false,
     "start_time": "2022-06-10T04:08:16.017571",
     "status": "completed"
    },
    "tags": []
   },
   "outputs": [],
   "source": [
    "pca = PCA(n_components=3)\n",
    "\n",
    "principal_components = pca.fit_transform(X)\n",
    "\n",
    "new_X = pd.DataFrame(data = principal_components, columns=['PC1','PC2','PC3'])"
   ]
  },
  {
   "cell_type": "code",
   "execution_count": 9,
   "id": "933c4770",
   "metadata": {
    "execution": {
     "iopub.execute_input": "2022-06-10T04:08:16.060349Z",
     "iopub.status.busy": "2022-06-10T04:08:16.059713Z",
     "iopub.status.idle": "2022-06-10T04:08:16.069969Z",
     "shell.execute_reply": "2022-06-10T04:08:16.069091Z"
    },
    "papermill": {
     "duration": 0.018813,
     "end_time": "2022-06-10T04:08:16.071814",
     "exception": false,
     "start_time": "2022-06-10T04:08:16.053001",
     "status": "completed"
    },
    "tags": []
   },
   "outputs": [
    {
     "data": {
      "text/html": [
       "<div>\n",
       "<style scoped>\n",
       "    .dataframe tbody tr th:only-of-type {\n",
       "        vertical-align: middle;\n",
       "    }\n",
       "\n",
       "    .dataframe tbody tr th {\n",
       "        vertical-align: top;\n",
       "    }\n",
       "\n",
       "    .dataframe thead th {\n",
       "        text-align: right;\n",
       "    }\n",
       "</style>\n",
       "<table border=\"1\" class=\"dataframe\">\n",
       "  <thead>\n",
       "    <tr style=\"text-align: right;\">\n",
       "      <th></th>\n",
       "      <th>PC1</th>\n",
       "      <th>PC2</th>\n",
       "      <th>PC3</th>\n",
       "    </tr>\n",
       "  </thead>\n",
       "  <tbody>\n",
       "    <tr>\n",
       "      <th>0</th>\n",
       "      <td>-3.127643</td>\n",
       "      <td>2.875643</td>\n",
       "      <td>-0.184756</td>\n",
       "    </tr>\n",
       "    <tr>\n",
       "      <th>1</th>\n",
       "      <td>5.381676</td>\n",
       "      <td>0.084076</td>\n",
       "      <td>-0.869762</td>\n",
       "    </tr>\n",
       "    <tr>\n",
       "      <th>2</th>\n",
       "      <td>0.198942</td>\n",
       "      <td>-1.203660</td>\n",
       "      <td>-0.200184</td>\n",
       "    </tr>\n",
       "    <tr>\n",
       "      <th>3</th>\n",
       "      <td>-0.876771</td>\n",
       "      <td>-0.460554</td>\n",
       "      <td>-0.286485</td>\n",
       "    </tr>\n",
       "    <tr>\n",
       "      <th>4</th>\n",
       "      <td>-1.977152</td>\n",
       "      <td>0.473143</td>\n",
       "      <td>-0.256399</td>\n",
       "    </tr>\n",
       "  </tbody>\n",
       "</table>\n",
       "</div>"
      ],
      "text/plain": [
       "        PC1       PC2       PC3\n",
       "0 -3.127643  2.875643 -0.184756\n",
       "1  5.381676  0.084076 -0.869762\n",
       "2  0.198942 -1.203660 -0.200184\n",
       "3 -0.876771 -0.460554 -0.286485\n",
       "4 -1.977152  0.473143 -0.256399"
      ]
     },
     "execution_count": 9,
     "metadata": {},
     "output_type": "execute_result"
    }
   ],
   "source": [
    "new_X.head()"
   ]
  },
  {
   "cell_type": "code",
   "execution_count": 10,
   "id": "8236dead",
   "metadata": {
    "execution": {
     "iopub.execute_input": "2022-06-10T04:08:16.085384Z",
     "iopub.status.busy": "2022-06-10T04:08:16.084357Z",
     "iopub.status.idle": "2022-06-10T04:08:16.267491Z",
     "shell.execute_reply": "2022-06-10T04:08:16.266546Z"
    },
    "papermill": {
     "duration": 0.192009,
     "end_time": "2022-06-10T04:08:16.269567",
     "exception": false,
     "start_time": "2022-06-10T04:08:16.077558",
     "status": "completed"
    },
    "tags": []
   },
   "outputs": [
    {
     "data": {
      "image/png": "[encoded data removed]",
      "text/plain": [
       "<Figure size 432x288 with 1 Axes>"
      ]
     },
     "metadata": {
      "needs_background": "light"
     },
     "output_type": "display_data"
    }
   ],
   "source": [
    "per_var = np.round(pca.explained_variance_ratio_ * 100, decimals =1)\n",
    "\n",
    "label = ['PC' + str(x) for x in range (1, len(per_var)+1)]\n",
    "\n",
    "plt.bar (x=range(1, len(per_var)+1),height=per_var,tick_label=label)\n",
    "plt.ylabel('percentage of explained variance')\n",
    "plt.xlabel('principal components')\n",
    "plt.title('scree plot')\n",
    "plt.show()"
   ]
  },
  {
   "cell_type": "code",
   "execution_count": 11,
   "id": "56989035",
   "metadata": {
    "execution": {
     "iopub.execute_input": "2022-06-10T04:08:16.282937Z",
     "iopub.status.busy": "2022-06-10T04:08:16.282510Z",
     "iopub.status.idle": "2022-06-10T04:08:16.305815Z",
     "shell.execute_reply": "2022-06-10T04:08:16.304835Z"
    },
    "papermill": {
     "duration": 0.032516,
     "end_time": "2022-06-10T04:08:16.307931",
     "exception": false,
     "start_time": "2022-06-10T04:08:16.275415",
     "status": "completed"
    },
    "tags": []
   },
   "outputs": [
    {
     "data": {
      "text/html": [
       "<div>\n",
       "<style scoped>\n",
       "    .dataframe tbody tr th:only-of-type {\n",
       "        vertical-align: middle;\n",
       "    }\n",
       "\n",
       "    .dataframe tbody tr th {\n",
       "        vertical-align: top;\n",
       "    }\n",
       "\n",
       "    .dataframe thead th {\n",
       "        text-align: right;\n",
       "    }\n",
       "</style>\n",
       "<table border=\"1\" class=\"dataframe\">\n",
       "  <thead>\n",
       "    <tr style=\"text-align: right;\">\n",
       "      <th></th>\n",
       "      <th>PC1</th>\n",
       "      <th>PC2</th>\n",
       "      <th>PC3</th>\n",
       "    </tr>\n",
       "  </thead>\n",
       "  <tbody>\n",
       "    <tr>\n",
       "      <th>count</th>\n",
       "      <td>2.200000e+01</td>\n",
       "      <td>2.200000e+01</td>\n",
       "      <td>2.200000e+01</td>\n",
       "    </tr>\n",
       "    <tr>\n",
       "      <th>mean</th>\n",
       "      <td>1.671643e-17</td>\n",
       "      <td>-1.009294e-17</td>\n",
       "      <td>-5.046468e-18</td>\n",
       "    </tr>\n",
       "    <tr>\n",
       "      <th>std</th>\n",
       "      <td>1.635362e+00</td>\n",
       "      <td>1.064937e+00</td>\n",
       "      <td>1.022389e+00</td>\n",
       "    </tr>\n",
       "    <tr>\n",
       "      <th>min</th>\n",
       "      <td>-3.127643e+00</td>\n",
       "      <td>-1.287548e+00</td>\n",
       "      <td>-8.697623e-01</td>\n",
       "    </tr>\n",
       "    <tr>\n",
       "      <th>25%</th>\n",
       "      <td>-8.683342e-01</td>\n",
       "      <td>-7.617388e-01</td>\n",
       "      <td>-2.907244e-01</td>\n",
       "    </tr>\n",
       "    <tr>\n",
       "      <th>50%</th>\n",
       "      <td>1.531494e-02</td>\n",
       "      <td>-2.796492e-01</td>\n",
       "      <td>-2.545892e-01</td>\n",
       "    </tr>\n",
       "    <tr>\n",
       "      <th>75%</th>\n",
       "      <td>2.713228e-01</td>\n",
       "      <td>5.700076e-01</td>\n",
       "      <td>-1.431167e-01</td>\n",
       "    </tr>\n",
       "    <tr>\n",
       "      <th>max</th>\n",
       "      <td>5.381676e+00</td>\n",
       "      <td>2.875643e+00</td>\n",
       "      <td>4.275520e+00</td>\n",
       "    </tr>\n",
       "  </tbody>\n",
       "</table>\n",
       "</div>"
      ],
      "text/plain": [
       "                PC1           PC2           PC3\n",
       "count  2.200000e+01  2.200000e+01  2.200000e+01\n",
       "mean   1.671643e-17 -1.009294e-17 -5.046468e-18\n",
       "std    1.635362e+00  1.064937e+00  1.022389e+00\n",
       "min   -3.127643e+00 -1.287548e+00 -8.697623e-01\n",
       "25%   -8.683342e-01 -7.617388e-01 -2.907244e-01\n",
       "50%    1.531494e-02 -2.796492e-01 -2.545892e-01\n",
       "75%    2.713228e-01  5.700076e-01 -1.431167e-01\n",
       "max    5.381676e+00  2.875643e+00  4.275520e+00"
      ]
     },
     "execution_count": 11,
     "metadata": {},
     "output_type": "execute_result"
    }
   ],
   "source": [
    "new_X.describe()"
   ]
  },
  {
   "cell_type": "code",
   "execution_count": 12,
   "id": "cc7aa08c",
   "metadata": {
    "execution": {
     "iopub.execute_input": "2022-06-10T04:08:16.321850Z",
     "iopub.status.busy": "2022-06-10T04:08:16.320733Z",
     "iopub.status.idle": "2022-06-10T04:08:16.333164Z",
     "shell.execute_reply": "2022-06-10T04:08:16.332239Z"
    },
    "papermill": {
     "duration": 0.021491,
     "end_time": "2022-06-10T04:08:16.335421",
     "exception": false,
     "start_time": "2022-06-10T04:08:16.313930",
     "status": "completed"
    },
    "tags": []
   },
   "outputs": [
    {
     "data": {
      "text/html": [
       "<div>\n",
       "<style scoped>\n",
       "    .dataframe tbody tr th:only-of-type {\n",
       "        vertical-align: middle;\n",
       "    }\n",
       "\n",
       "    .dataframe tbody tr th {\n",
       "        vertical-align: top;\n",
       "    }\n",
       "\n",
       "    .dataframe thead th {\n",
       "        text-align: right;\n",
       "    }\n",
       "</style>\n",
       "<table border=\"1\" class=\"dataframe\">\n",
       "  <thead>\n",
       "    <tr style=\"text-align: right;\">\n",
       "      <th></th>\n",
       "      <th>PC1</th>\n",
       "      <th>PC2</th>\n",
       "      <th>PC3</th>\n",
       "    </tr>\n",
       "  </thead>\n",
       "  <tbody>\n",
       "    <tr>\n",
       "      <th>0</th>\n",
       "      <td>-3.127643</td>\n",
       "      <td>2.875643</td>\n",
       "      <td>-0.184756</td>\n",
       "    </tr>\n",
       "    <tr>\n",
       "      <th>1</th>\n",
       "      <td>5.381676</td>\n",
       "      <td>0.084076</td>\n",
       "      <td>-0.869762</td>\n",
       "    </tr>\n",
       "    <tr>\n",
       "      <th>2</th>\n",
       "      <td>0.198942</td>\n",
       "      <td>-1.203660</td>\n",
       "      <td>-0.200184</td>\n",
       "    </tr>\n",
       "    <tr>\n",
       "      <th>3</th>\n",
       "      <td>-0.876771</td>\n",
       "      <td>-0.460554</td>\n",
       "      <td>-0.286485</td>\n",
       "    </tr>\n",
       "    <tr>\n",
       "      <th>4</th>\n",
       "      <td>-1.977152</td>\n",
       "      <td>0.473143</td>\n",
       "      <td>-0.256399</td>\n",
       "    </tr>\n",
       "    <tr>\n",
       "      <th>5</th>\n",
       "      <td>-1.004699</td>\n",
       "      <td>-0.909407</td>\n",
       "      <td>0.089961</td>\n",
       "    </tr>\n",
       "    <tr>\n",
       "      <th>6</th>\n",
       "      <td>-1.117752</td>\n",
       "      <td>-1.125422</td>\n",
       "      <td>-0.175309</td>\n",
       "    </tr>\n",
       "    <tr>\n",
       "      <th>7</th>\n",
       "      <td>0.286303</td>\n",
       "      <td>0.203166</td>\n",
       "      <td>-0.243831</td>\n",
       "    </tr>\n",
       "    <tr>\n",
       "      <th>8</th>\n",
       "      <td>-0.090082</td>\n",
       "      <td>-0.790781</td>\n",
       "      <td>-0.252780</td>\n",
       "    </tr>\n",
       "    <tr>\n",
       "      <th>9</th>\n",
       "      <td>-0.074397</td>\n",
       "      <td>-1.211901</td>\n",
       "      <td>-0.003485</td>\n",
       "    </tr>\n",
       "    <tr>\n",
       "      <th>10</th>\n",
       "      <td>0.226383</td>\n",
       "      <td>0.122856</td>\n",
       "      <td>-0.344533</td>\n",
       "    </tr>\n",
       "    <tr>\n",
       "      <th>11</th>\n",
       "      <td>1.464803</td>\n",
       "      <td>0.754536</td>\n",
       "      <td>4.275520</td>\n",
       "    </tr>\n",
       "    <tr>\n",
       "      <th>12</th>\n",
       "      <td>1.531221</td>\n",
       "      <td>1.602583</td>\n",
       "      <td>-0.542406</td>\n",
       "    </tr>\n",
       "    <tr>\n",
       "      <th>13</th>\n",
       "      <td>0.148362</td>\n",
       "      <td>-1.287548</td>\n",
       "      <td>0.343633</td>\n",
       "    </tr>\n",
       "    <tr>\n",
       "      <th>14</th>\n",
       "      <td>-1.545987</td>\n",
       "      <td>-0.674613</td>\n",
       "      <td>1.019378</td>\n",
       "    </tr>\n",
       "    <tr>\n",
       "      <th>15</th>\n",
       "      <td>-0.843024</td>\n",
       "      <td>-0.411148</td>\n",
       "      <td>-0.285428</td>\n",
       "    </tr>\n",
       "    <tr>\n",
       "      <th>16</th>\n",
       "      <td>0.611170</td>\n",
       "      <td>0.602296</td>\n",
       "      <td>-0.281942</td>\n",
       "    </tr>\n",
       "    <tr>\n",
       "      <th>17</th>\n",
       "      <td>-0.730445</td>\n",
       "      <td>-0.148150</td>\n",
       "      <td>-0.132386</td>\n",
       "    </tr>\n",
       "    <tr>\n",
       "      <th>18</th>\n",
       "      <td>0.192458</td>\n",
       "      <td>-0.502841</td>\n",
       "      <td>-0.273949</td>\n",
       "    </tr>\n",
       "    <tr>\n",
       "      <th>19</th>\n",
       "      <td>0.067055</td>\n",
       "      <td>-0.475753</td>\n",
       "      <td>-0.292138</td>\n",
       "    </tr>\n",
       "    <tr>\n",
       "      <th>20</th>\n",
       "      <td>1.316006</td>\n",
       "      <td>1.389191</td>\n",
       "      <td>-0.470493</td>\n",
       "    </tr>\n",
       "    <tr>\n",
       "      <th>21</th>\n",
       "      <td>-0.036425</td>\n",
       "      <td>1.094289</td>\n",
       "      <td>-0.632227</td>\n",
       "    </tr>\n",
       "  </tbody>\n",
       "</table>\n",
       "</div>"
      ],
      "text/plain": [
       "         PC1       PC2       PC3\n",
       "0  -3.127643  2.875643 -0.184756\n",
       "1   5.381676  0.084076 -0.869762\n",
       "2   0.198942 -1.203660 -0.200184\n",
       "3  -0.876771 -0.460554 -0.286485\n",
       "4  -1.977152  0.473143 -0.256399\n",
       "5  -1.004699 -0.909407  0.089961\n",
       "6  -1.117752 -1.125422 -0.175309\n",
       "7   0.286303  0.203166 -0.243831\n",
       "8  -0.090082 -0.790781 -0.252780\n",
       "9  -0.074397 -1.211901 -0.003485\n",
       "10  0.226383  0.122856 -0.344533\n",
       "11  1.464803  0.754536  4.275520\n",
       "12  1.531221  1.602583 -0.542406\n",
       "13  0.148362 -1.287548  0.343633\n",
       "14 -1.545987 -0.674613  1.019378\n",
       "15 -0.843024 -0.411148 -0.285428\n",
       "16  0.611170  0.602296 -0.281942\n",
       "17 -0.730445 -0.148150 -0.132386\n",
       "18  0.192458 -0.502841 -0.273949\n",
       "19  0.067055 -0.475753 -0.292138\n",
       "20  1.316006  1.389191 -0.470493\n",
       "21 -0.036425  1.094289 -0.632227"
      ]
     },
     "metadata": {},
     "output_type": "display_data"
    }
   ],
   "source": [
    "display(new_X)"
   ]
  },
  {
   "cell_type": "code",
   "execution_count": 13,
   "id": "d01e373c",
   "metadata": {
    "execution": {
     "iopub.execute_input": "2022-06-10T04:08:16.350935Z",
     "iopub.status.busy": "2022-06-10T04:08:16.350404Z",
     "iopub.status.idle": "2022-06-10T04:08:17.272801Z",
     "shell.execute_reply": "2022-06-10T04:08:17.271695Z"
    },
    "papermill": {
     "duration": 0.932112,
     "end_time": "2022-06-10T04:08:17.274868",
     "exception": false,
     "start_time": "2022-06-10T04:08:16.342756",
     "status": "completed"
    },
    "tags": []
   },
   "outputs": [
    {
     "data": {
      "text/plain": [
       "<Figure size 1440x1440 with 0 Axes>"
      ]
     },
     "metadata": {},
     "output_type": "display_data"
    },
    {
     "data": {
      "image/png": "[encoded data removed]",
      "text/plain": [
       "<Figure size 360x360 with 6 Axes>"
      ]
     },
     "metadata": {
      "needs_background": "light"
     },
     "output_type": "display_data"
    }
   ],
   "source": [
    "plt.figure(figsize=(20, 20))\n",
    "sns.pairplot(new_X, vars = new_X.columns[1:6]);"
   ]
  },
  {
   "cell_type": "code",
   "execution_count": 14,
   "id": "1aee9274",
   "metadata": {
    "execution": {
     "iopub.execute_input": "2022-06-10T04:08:17.289306Z",
     "iopub.status.busy": "2022-06-10T04:08:17.288555Z",
     "iopub.status.idle": "2022-06-10T04:08:18.305143Z",
     "shell.execute_reply": "2022-06-10T04:08:18.303843Z"
    },
    "papermill": {
     "duration": 1.026175,
     "end_time": "2022-06-10T04:08:18.307408",
     "exception": false,
     "start_time": "2022-06-10T04:08:17.281233",
     "status": "completed"
    },
    "tags": []
   },
   "outputs": [
    {
     "data": {
      "text/plain": [
       "[<matplotlib.lines.Line2D at 0x7f687f8a6ed0>]"
      ]
     },
     "execution_count": 14,
     "metadata": {},
     "output_type": "execute_result"
    },
    {
     "data": {
      "image/png": "[encoded data removed]",
      "text/plain": [
       "<Figure size 864x432 with 1 Axes>"
      ]
     },
     "metadata": {
      "needs_background": "light"
     },
     "output_type": "display_data"
    }
   ],
   "source": [
    "from sklearn.cluster import KMeans\n",
    "inertia = []\n",
    "\n",
    "for i in range(1, 23):\n",
    "  kmeans = KMeans(n_clusters=i, init='k-means++', max_iter=300, n_init=10, random_state=0)\n",
    "  kmeans.fit(new_X.values)\n",
    "  inertia.append(kmeans.inertia_)\n",
    "\n",
    "plt.figure(figsize=(12, 6))\n",
    "plt.plot(inertia)"
   ]
  },
  {
   "cell_type": "code",
   "execution_count": 15,
   "id": "c87137f0",
   "metadata": {
    "execution": {
     "iopub.execute_input": "2022-06-10T04:08:18.324305Z",
     "iopub.status.busy": "2022-06-10T04:08:18.323872Z",
     "iopub.status.idle": "2022-06-10T04:08:18.354024Z",
     "shell.execute_reply": "2022-06-10T04:08:18.353211Z"
    },
    "papermill": {
     "duration": 0.041507,
     "end_time": "2022-06-10T04:08:18.356540",
     "exception": false,
     "start_time": "2022-06-10T04:08:18.315033",
     "status": "completed"
    },
    "tags": []
   },
   "outputs": [],
   "source": [
    "from sklearn.cluster import KMeans\n",
    "kmeans = KMeans(n_clusters=4, init='k-means++', max_iter=300, n_init=12, random_state=0)\n",
    "label = kmeans.fit(new_X.values)"
   ]
  },
  {
   "cell_type": "code",
   "execution_count": 16,
   "id": "9ded45a7",
   "metadata": {
    "execution": {
     "iopub.execute_input": "2022-06-10T04:08:18.373031Z",
     "iopub.status.busy": "2022-06-10T04:08:18.372063Z",
     "iopub.status.idle": "2022-06-10T04:08:18.378876Z",
     "shell.execute_reply": "2022-06-10T04:08:18.377808Z"
    },
    "papermill": {
     "duration": 0.016646,
     "end_time": "2022-06-10T04:08:18.380692",
     "exception": false,
     "start_time": "2022-06-10T04:08:18.364046",
     "status": "completed"
    },
    "tags": []
   },
   "outputs": [],
   "source": [
    "new_X['target'] = y\n",
    "new_X['fit'] = kmeans.labels_"
   ]
  },
  {
   "cell_type": "code",
   "execution_count": 17,
   "id": "871bae69",
   "metadata": {
    "execution": {
     "iopub.execute_input": "2022-06-10T04:08:18.397500Z",
     "iopub.status.busy": "2022-06-10T04:08:18.396476Z",
     "iopub.status.idle": "2022-06-10T04:08:19.001605Z",
     "shell.execute_reply": "2022-06-10T04:08:19.000637Z"
    },
    "papermill": {
     "duration": 0.615608,
     "end_time": "2022-06-10T04:08:19.003715",
     "exception": false,
     "start_time": "2022-06-10T04:08:18.388107",
     "status": "completed"
    },
    "tags": []
   },
   "outputs": [
    {
     "data": {
      "image/png": "[encoded data removed]",
      "text/plain": [
       "<Figure size 576x576 with 1 Axes>"
      ]
     },
     "metadata": {
      "needs_background": "light"
     },
     "output_type": "display_data"
    }
   ],
   "source": [
    "plt.rcParams[\"figure.figsize\"] = (8, 8)\n",
    "sns.scatterplot(x='PC1', y='PC2', hue=new_X.target.to_list(), data=new_X);"
   ]
  },
  {
   "cell_type": "code",
   "execution_count": 18,
   "id": "04c74e21",
   "metadata": {
    "execution": {
     "iopub.execute_input": "2022-06-10T04:08:19.019639Z",
     "iopub.status.busy": "2022-06-10T04:08:19.019250Z",
     "iopub.status.idle": "2022-06-10T04:08:19.033952Z",
     "shell.execute_reply": "2022-06-10T04:08:19.033331Z"
    },
    "papermill": {
     "duration": 0.024563,
     "end_time": "2022-06-10T04:08:19.035564",
     "exception": false,
     "start_time": "2022-06-10T04:08:19.011001",
     "status": "completed"
    },
    "tags": []
   },
   "outputs": [
    {
     "data": {
      "text/html": [
       "<div>\n",
       "<style scoped>\n",
       "    .dataframe tbody tr th:only-of-type {\n",
       "        vertical-align: middle;\n",
       "    }\n",
       "\n",
       "    .dataframe tbody tr th {\n",
       "        vertical-align: top;\n",
       "    }\n",
       "\n",
       "    .dataframe thead th {\n",
       "        text-align: right;\n",
       "    }\n",
       "</style>\n",
       "<table border=\"1\" class=\"dataframe\">\n",
       "  <thead>\n",
       "    <tr style=\"text-align: right;\">\n",
       "      <th></th>\n",
       "      <th>PC1</th>\n",
       "      <th>PC2</th>\n",
       "      <th>PC3</th>\n",
       "      <th>target</th>\n",
       "      <th>fit</th>\n",
       "    </tr>\n",
       "  </thead>\n",
       "  <tbody>\n",
       "    <tr>\n",
       "      <th>0</th>\n",
       "      <td>-3.127643</td>\n",
       "      <td>2.875643</td>\n",
       "      <td>-0.184756</td>\n",
       "      <td>ACST</td>\n",
       "      <td>0</td>\n",
       "    </tr>\n",
       "    <tr>\n",
       "      <th>1</th>\n",
       "      <td>5.381676</td>\n",
       "      <td>0.084076</td>\n",
       "      <td>-0.869762</td>\n",
       "      <td>ADHI</td>\n",
       "      <td>1</td>\n",
       "    </tr>\n",
       "    <tr>\n",
       "      <th>2</th>\n",
       "      <td>0.198942</td>\n",
       "      <td>-1.203660</td>\n",
       "      <td>-0.200184</td>\n",
       "      <td>BUKK</td>\n",
       "      <td>3</td>\n",
       "    </tr>\n",
       "    <tr>\n",
       "      <th>3</th>\n",
       "      <td>-0.876771</td>\n",
       "      <td>-0.460554</td>\n",
       "      <td>-0.286485</td>\n",
       "      <td>DGIK</td>\n",
       "      <td>3</td>\n",
       "    </tr>\n",
       "    <tr>\n",
       "      <th>4</th>\n",
       "      <td>-1.977152</td>\n",
       "      <td>0.473143</td>\n",
       "      <td>-0.256399</td>\n",
       "      <td>IDPR</td>\n",
       "      <td>0</td>\n",
       "    </tr>\n",
       "    <tr>\n",
       "      <th>5</th>\n",
       "      <td>-1.004699</td>\n",
       "      <td>-0.909407</td>\n",
       "      <td>0.089961</td>\n",
       "      <td>JKON</td>\n",
       "      <td>3</td>\n",
       "    </tr>\n",
       "    <tr>\n",
       "      <th>6</th>\n",
       "      <td>-1.117752</td>\n",
       "      <td>-1.125422</td>\n",
       "      <td>-0.175309</td>\n",
       "      <td>MTPS</td>\n",
       "      <td>3</td>\n",
       "    </tr>\n",
       "    <tr>\n",
       "      <th>7</th>\n",
       "      <td>0.286303</td>\n",
       "      <td>0.203166</td>\n",
       "      <td>-0.243831</td>\n",
       "      <td>MTRA</td>\n",
       "      <td>3</td>\n",
       "    </tr>\n",
       "    <tr>\n",
       "      <th>8</th>\n",
       "      <td>-0.090082</td>\n",
       "      <td>-0.790781</td>\n",
       "      <td>-0.252780</td>\n",
       "      <td>NRCA</td>\n",
       "      <td>3</td>\n",
       "    </tr>\n",
       "    <tr>\n",
       "      <th>9</th>\n",
       "      <td>-0.074397</td>\n",
       "      <td>-1.211901</td>\n",
       "      <td>-0.003485</td>\n",
       "      <td>PBSA</td>\n",
       "      <td>3</td>\n",
       "    </tr>\n",
       "    <tr>\n",
       "      <th>10</th>\n",
       "      <td>0.226383</td>\n",
       "      <td>0.122856</td>\n",
       "      <td>-0.344533</td>\n",
       "      <td>PPRE</td>\n",
       "      <td>3</td>\n",
       "    </tr>\n",
       "    <tr>\n",
       "      <th>11</th>\n",
       "      <td>1.464803</td>\n",
       "      <td>0.754536</td>\n",
       "      <td>4.275520</td>\n",
       "      <td>PTDU</td>\n",
       "      <td>2</td>\n",
       "    </tr>\n",
       "    <tr>\n",
       "      <th>12</th>\n",
       "      <td>1.531221</td>\n",
       "      <td>1.602583</td>\n",
       "      <td>-0.542406</td>\n",
       "      <td>PTPP</td>\n",
       "      <td>1</td>\n",
       "    </tr>\n",
       "    <tr>\n",
       "      <th>13</th>\n",
       "      <td>0.148362</td>\n",
       "      <td>-1.287548</td>\n",
       "      <td>0.343633</td>\n",
       "      <td>PTPW</td>\n",
       "      <td>3</td>\n",
       "    </tr>\n",
       "    <tr>\n",
       "      <th>14</th>\n",
       "      <td>-1.545987</td>\n",
       "      <td>-0.674613</td>\n",
       "      <td>1.019378</td>\n",
       "      <td>RONY</td>\n",
       "      <td>3</td>\n",
       "    </tr>\n",
       "    <tr>\n",
       "      <th>15</th>\n",
       "      <td>-0.843024</td>\n",
       "      <td>-0.411148</td>\n",
       "      <td>-0.285428</td>\n",
       "      <td>SSIA</td>\n",
       "      <td>3</td>\n",
       "    </tr>\n",
       "    <tr>\n",
       "      <th>16</th>\n",
       "      <td>0.611170</td>\n",
       "      <td>0.602296</td>\n",
       "      <td>-0.281942</td>\n",
       "      <td>TAMA</td>\n",
       "      <td>3</td>\n",
       "    </tr>\n",
       "    <tr>\n",
       "      <th>17</th>\n",
       "      <td>-0.730445</td>\n",
       "      <td>-0.148150</td>\n",
       "      <td>-0.132386</td>\n",
       "      <td>TOPS</td>\n",
       "      <td>3</td>\n",
       "    </tr>\n",
       "    <tr>\n",
       "      <th>18</th>\n",
       "      <td>0.192458</td>\n",
       "      <td>-0.502841</td>\n",
       "      <td>-0.273949</td>\n",
       "      <td>TOTL</td>\n",
       "      <td>3</td>\n",
       "    </tr>\n",
       "    <tr>\n",
       "      <th>19</th>\n",
       "      <td>0.067055</td>\n",
       "      <td>-0.475753</td>\n",
       "      <td>-0.292138</td>\n",
       "      <td>WEGE</td>\n",
       "      <td>3</td>\n",
       "    </tr>\n",
       "    <tr>\n",
       "      <th>20</th>\n",
       "      <td>1.316006</td>\n",
       "      <td>1.389191</td>\n",
       "      <td>-0.470493</td>\n",
       "      <td>WIKA</td>\n",
       "      <td>1</td>\n",
       "    </tr>\n",
       "    <tr>\n",
       "      <th>21</th>\n",
       "      <td>-0.036425</td>\n",
       "      <td>1.094289</td>\n",
       "      <td>-0.632227</td>\n",
       "      <td>WSKT</td>\n",
       "      <td>3</td>\n",
       "    </tr>\n",
       "  </tbody>\n",
       "</table>\n",
       "</div>"
      ],
      "text/plain": [
       "         PC1       PC2       PC3 target  fit\n",
       "0  -3.127643  2.875643 -0.184756   ACST    0\n",
       "1   5.381676  0.084076 -0.869762   ADHI    1\n",
       "2   0.198942 -1.203660 -0.200184   BUKK    3\n",
       "3  -0.876771 -0.460554 -0.286485   DGIK    3\n",
       "4  -1.977152  0.473143 -0.256399   IDPR    0\n",
       "5  -1.004699 -0.909407  0.089961   JKON    3\n",
       "6  -1.117752 -1.125422 -0.175309   MTPS    3\n",
       "7   0.286303  0.203166 -0.243831   MTRA    3\n",
       "8  -0.090082 -0.790781 -0.252780   NRCA    3\n",
       "9  -0.074397 -1.211901 -0.003485   PBSA    3\n",
       "10  0.226383  0.122856 -0.344533   PPRE    3\n",
       "11  1.464803  0.754536  4.275520   PTDU    2\n",
       "12  1.531221  1.602583 -0.542406   PTPP    1\n",
       "13  0.148362 -1.287548  0.343633   PTPW    3\n",
       "14 -1.545987 -0.674613  1.019378   RONY    3\n",
       "15 -0.843024 -0.411148 -0.285428   SSIA    3\n",
       "16  0.611170  0.602296 -0.281942   TAMA    3\n",
       "17 -0.730445 -0.148150 -0.132386   TOPS    3\n",
       "18  0.192458 -0.502841 -0.273949   TOTL    3\n",
       "19  0.067055 -0.475753 -0.292138   WEGE    3\n",
       "20  1.316006  1.389191 -0.470493   WIKA    1\n",
       "21 -0.036425  1.094289 -0.632227   WSKT    3"
      ]
     },
     "execution_count": 18,
     "metadata": {},
     "output_type": "execute_result"
    }
   ],
   "source": [
    "new_X.head(22)"
   ]
  },
  {
   "cell_type": "code",
   "execution_count": 19,
   "id": "6d494856",
   "metadata": {
    "execution": {
     "iopub.execute_input": "2022-06-10T04:08:19.052338Z",
     "iopub.status.busy": "2022-06-10T04:08:19.051760Z",
     "iopub.status.idle": "2022-06-10T04:08:19.065422Z",
     "shell.execute_reply": "2022-06-10T04:08:19.063752Z"
    },
    "papermill": {
     "duration": 0.024718,
     "end_time": "2022-06-10T04:08:19.067693",
     "exception": false,
     "start_time": "2022-06-10T04:08:19.042975",
     "status": "completed"
    },
    "tags": []
   },
   "outputs": [
    {
     "name": "stdout",
     "output_type": "stream",
     "text": [
      "<class 'pandas.core.frame.DataFrame'>\n",
      "RangeIndex: 22 entries, 0 to 21\n",
      "Data columns (total 4 columns):\n",
      " #   Column     Non-Null Count  Dtype  \n",
      "---  ------     --------------  -----  \n",
      " 0   fit        22 non-null     float64\n",
      " 1   PC1 (St.)  22 non-null     float64\n",
      " 2   PC2 (St.)  22 non-null     float64\n",
      " 3   PC3 (St.)  22 non-null     int32  \n",
      "dtypes: float64(3), int32(1)\n",
      "memory usage: 744.0 bytes\n"
     ]
    }
   ],
   "source": [
    "new_X.drop([\"target\"], axis=1, inplace=True)\n",
    "new_X.columns = ['fit','PC1 (St.)','PC2 (St.)','PC3 (St.)']\n",
    "new_X.info()"
   ]
  },
  {
   "cell_type": "code",
   "execution_count": 20,
   "id": "95b13a65",
   "metadata": {
    "execution": {
     "iopub.execute_input": "2022-06-10T04:08:19.084187Z",
     "iopub.status.busy": "2022-06-10T04:08:19.083766Z",
     "iopub.status.idle": "2022-06-10T04:08:19.290189Z",
     "shell.execute_reply": "2022-06-10T04:08:19.289341Z"
    },
    "papermill": {
     "duration": 0.217013,
     "end_time": "2022-06-10T04:08:19.292216",
     "exception": false,
     "start_time": "2022-06-10T04:08:19.075203",
     "status": "completed"
    },
    "tags": []
   },
   "outputs": [
    {
     "data": {
      "image/png": "[encoded data removed]",
      "text/plain": [
       "<Figure size 576x576 with 1 Axes>"
      ]
     },
     "metadata": {
      "needs_background": "light"
     },
     "output_type": "display_data"
    }
   ],
   "source": [
    "plt.figure(figsize=(8,8))\n",
    "uniq = np.unique(label)\n",
    "for i in uniq:\n",
    "  plt.scatter(principal_components[label == i , 0] , principal_components[label == i , 1] , label = i)\n",
    "  \n",
    "plt.legend()\n",
    "plt.show()"
   ]
  },
  {
   "cell_type": "code",
   "execution_count": 21,
   "id": "906cfd36",
   "metadata": {
    "execution": {
     "iopub.execute_input": "2022-06-10T04:08:19.309700Z",
     "iopub.status.busy": "2022-06-10T04:08:19.308862Z",
     "iopub.status.idle": "2022-06-10T04:08:20.013818Z",
     "shell.execute_reply": "2022-06-10T04:08:20.012904Z"
    },
    "papermill": {
     "duration": 0.716751,
     "end_time": "2022-06-10T04:08:20.016646",
     "exception": false,
     "start_time": "2022-06-10T04:08:19.299895",
     "status": "completed"
    },
    "tags": []
   },
   "outputs": [
    {
     "data": {
      "image/png": "[encoded data removed]",
      "text/plain": [
       "<Figure size 576x576 with 1 Axes>"
      ]
     },
     "metadata": {
      "needs_background": "light"
     },
     "output_type": "display_data"
    }
   ],
   "source": [
    "from mpl_toolkits.mplot3d import Axes3D\n",
    "\n",
    "fig = plt.figure()\n",
    "ax = fig.add_subplot(111, projection = '3d')\n",
    "\n",
    "\n",
    "x = new_X['PC1 (St.)']\n",
    "y = new_X['PC2 (St.)']\n",
    "z = new_X['PC3 (St.)']\n",
    "\n",
    "ax.set_xlabel(\"PC1 (St.)\")\n",
    "ax.set_ylabel(\"PC2 (St.)\")\n",
    "ax.set_zlabel(\"PC3 (St.)\")\n",
    "\n",
    "cmap = ListedColormap(sns.color_palette(\"RdYlGn\", 256).as_hex())\n",
    "\n",
    "sc = ax.scatter(x, y, z, s=40, c=new_X['fit'], marker='o', cmap=cmap, alpha=1)\n",
    "plt.legend(*sc.legend_elements(), bbox_to_anchor=(1.05, 1), loc=2)\n",
    "\n",
    "plt.show()"
   ]
  }
 ],
 "metadata": {
  "kernelspec": {
   "display_name": "Python 3",
   "language": "python",
   "name": "python3"
  },
  "language_info": {
   "codemirror_mode": {
    "name": "ipython",
    "version": 3
   },
   "file_extension": ".py",
   "mimetype": "text/x-python",
   "name": "python",
   "nbconvert_exporter": "python",
   "pygments_lexer": "ipython3",
   "version": "3.7.12"
  },
  "papermill": {
   "default_parameters": {},
   "duration": 15.147029,
   "end_time": "2022-06-10T04:08:20.855789",
   "environment_variables": {},
   "exception": null,
   "input_path": "__notebook__.ipynb",
   "output_path": "__notebook__.ipynb",
   "parameters": {},
   "start_time": "2022-06-10T04:08:05.708760",
   "version": "2.3.4"
  }
 },
 "nbformat": 4,
 "nbformat_minor": 5
}
